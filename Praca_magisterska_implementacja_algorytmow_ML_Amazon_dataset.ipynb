{
 "cells": [
  {
   "cell_type": "code",
   "execution_count": 6,
   "id": "110dd773",
   "metadata": {},
   "outputs": [],
   "source": [
    "import pandas as pd\n",
    "import numpy as np\n",
    "from nltk.tokenize import word_tokenize\n",
    "from nltk import pos_tag\n",
    "from nltk.corpus import stopwords\n",
    "from nltk.stem import WordNetLemmatizer\n",
    "from sklearn.preprocessing import LabelEncoder\n",
    "from collections import defaultdict\n",
    "from nltk.corpus import wordnet as wn\n",
    "from sklearn.feature_extraction.text import TfidfVectorizer\n",
    "from sklearn import model_selection, naive_bayes, svm, tree\n",
    "from sklearn.metrics import accuracy_score\n",
    "from sklearn.linear_model import RidgeClassifier\n",
    "from sklearn.ensemble import RandomForestClassifier\n",
    "import pandas as pd\n",
    "import gzip\n",
    "import json\n",
    "import string"
   ]
  },
  {
   "cell_type": "code",
   "execution_count": 7,
   "id": "dd302af4",
   "metadata": {},
   "outputs": [],
   "source": [
    "np.random.seed(500)"
   ]
  },
  {
   "cell_type": "code",
   "execution_count": 8,
   "id": "8c9837a1",
   "metadata": {},
   "outputs": [
    {
     "data": {
      "text/html": [
       "<div>\n",
       "<style scoped>\n",
       "    .dataframe tbody tr th:only-of-type {\n",
       "        vertical-align: middle;\n",
       "    }\n",
       "\n",
       "    .dataframe tbody tr th {\n",
       "        vertical-align: top;\n",
       "    }\n",
       "\n",
       "    .dataframe thead th {\n",
       "        text-align: right;\n",
       "    }\n",
       "</style>\n",
       "<table border=\"1\" class=\"dataframe\">\n",
       "  <thead>\n",
       "    <tr style=\"text-align: right;\">\n",
       "      <th></th>\n",
       "      <th>Unnamed: 0</th>\n",
       "      <th>rating</th>\n",
       "      <th>verified</th>\n",
       "      <th>reviewTime</th>\n",
       "      <th>reviewerID</th>\n",
       "      <th>productID</th>\n",
       "      <th>reviewText</th>\n",
       "      <th>summary</th>\n",
       "      <th>unixReviewTime</th>\n",
       "    </tr>\n",
       "  </thead>\n",
       "  <tbody>\n",
       "    <tr>\n",
       "      <th>0</th>\n",
       "      <td>0</td>\n",
       "      <td>4</td>\n",
       "      <td>True</td>\n",
       "      <td>03 11, 2014</td>\n",
       "      <td>A240ORQ2LF9LUI</td>\n",
       "      <td>0077613252</td>\n",
       "      <td>The materials arrived early and were in excell...</td>\n",
       "      <td>Material Great</td>\n",
       "      <td>1394496000</td>\n",
       "    </tr>\n",
       "    <tr>\n",
       "      <th>1</th>\n",
       "      <td>1</td>\n",
       "      <td>4</td>\n",
       "      <td>True</td>\n",
       "      <td>02 23, 2014</td>\n",
       "      <td>A1YCCU0YRLS0FE</td>\n",
       "      <td>0077613252</td>\n",
       "      <td>I am really enjoying this book with the worksh...</td>\n",
       "      <td>Health</td>\n",
       "      <td>1393113600</td>\n",
       "    </tr>\n",
       "    <tr>\n",
       "      <th>2</th>\n",
       "      <td>2</td>\n",
       "      <td>1</td>\n",
       "      <td>True</td>\n",
       "      <td>02 17, 2014</td>\n",
       "      <td>A1BJHRQDYVAY2J</td>\n",
       "      <td>0077613252</td>\n",
       "      <td>IF YOU ARE TAKING THIS CLASS DON\"T WASTE YOUR ...</td>\n",
       "      <td>ARE YOU KIDING ME?</td>\n",
       "      <td>1392595200</td>\n",
       "    </tr>\n",
       "    <tr>\n",
       "      <th>3</th>\n",
       "      <td>3</td>\n",
       "      <td>3</td>\n",
       "      <td>True</td>\n",
       "      <td>02 17, 2014</td>\n",
       "      <td>APRDVZ6QBIQXT</td>\n",
       "      <td>0077613252</td>\n",
       "      <td>This book was missing pages!!! Important pages...</td>\n",
       "      <td>missing pages!!</td>\n",
       "      <td>1392595200</td>\n",
       "    </tr>\n",
       "    <tr>\n",
       "      <th>4</th>\n",
       "      <td>4</td>\n",
       "      <td>5</td>\n",
       "      <td>False</td>\n",
       "      <td>10 14, 2013</td>\n",
       "      <td>A2JZTTBSLS1QXV</td>\n",
       "      <td>0077775473</td>\n",
       "      <td>I have used LearnSmart and can officially say ...</td>\n",
       "      <td>Best study product out there!</td>\n",
       "      <td>1381708800</td>\n",
       "    </tr>\n",
       "  </tbody>\n",
       "</table>\n",
       "</div>"
      ],
      "text/plain": [
       "   Unnamed: 0  rating  verified   reviewTime      reviewerID   productID  \\\n",
       "0           0       4      True  03 11, 2014  A240ORQ2LF9LUI  0077613252   \n",
       "1           1       4      True  02 23, 2014  A1YCCU0YRLS0FE  0077613252   \n",
       "2           2       1      True  02 17, 2014  A1BJHRQDYVAY2J  0077613252   \n",
       "3           3       3      True  02 17, 2014   APRDVZ6QBIQXT  0077613252   \n",
       "4           4       5     False  10 14, 2013  A2JZTTBSLS1QXV  0077775473   \n",
       "\n",
       "                                          reviewText  \\\n",
       "0  The materials arrived early and were in excell...   \n",
       "1  I am really enjoying this book with the worksh...   \n",
       "2  IF YOU ARE TAKING THIS CLASS DON\"T WASTE YOUR ...   \n",
       "3  This book was missing pages!!! Important pages...   \n",
       "4  I have used LearnSmart and can officially say ...   \n",
       "\n",
       "                         summary  unixReviewTime  \n",
       "0                 Material Great      1394496000  \n",
       "1                         Health      1393113600  \n",
       "2             ARE YOU KIDING ME?      1392595200  \n",
       "3                missing pages!!      1392595200  \n",
       "4  Best study product out there!      1381708800  "
      ]
     },
     "execution_count": 8,
     "metadata": {},
     "output_type": "execute_result"
    }
   ],
   "source": [
    "df = pd.read_csv(r\"C:\\Users\\stezo\\Desktop\\Text_classification\\Software.csv\")\n",
    "df.head()"
   ]
  },
  {
   "cell_type": "code",
   "execution_count": 9,
   "id": "bfc0be1b",
   "metadata": {},
   "outputs": [
    {
     "data": {
      "text/html": [
       "<div>\n",
       "<style scoped>\n",
       "    .dataframe tbody tr th:only-of-type {\n",
       "        vertical-align: middle;\n",
       "    }\n",
       "\n",
       "    .dataframe tbody tr th {\n",
       "        vertical-align: top;\n",
       "    }\n",
       "\n",
       "    .dataframe thead th {\n",
       "        text-align: right;\n",
       "    }\n",
       "</style>\n",
       "<table border=\"1\" class=\"dataframe\">\n",
       "  <thead>\n",
       "    <tr style=\"text-align: right;\">\n",
       "      <th></th>\n",
       "      <th>text</th>\n",
       "      <th>label</th>\n",
       "    </tr>\n",
       "  </thead>\n",
       "  <tbody>\n",
       "    <tr>\n",
       "      <th>0</th>\n",
       "      <td>The materials arrived early and were in excell...</td>\n",
       "      <td>1</td>\n",
       "    </tr>\n",
       "    <tr>\n",
       "      <th>1</th>\n",
       "      <td>I am really enjoying this book with the worksh...</td>\n",
       "      <td>1</td>\n",
       "    </tr>\n",
       "    <tr>\n",
       "      <th>2</th>\n",
       "      <td>IF YOU ARE TAKING THIS CLASS DON\"T WASTE YOUR ...</td>\n",
       "      <td>0</td>\n",
       "    </tr>\n",
       "    <tr>\n",
       "      <th>3</th>\n",
       "      <td>This book was missing pages!!! Important pages...</td>\n",
       "      <td>0</td>\n",
       "    </tr>\n",
       "    <tr>\n",
       "      <th>4</th>\n",
       "      <td>I have used LearnSmart and can officially say ...</td>\n",
       "      <td>1</td>\n",
       "    </tr>\n",
       "    <tr>\n",
       "      <th>...</th>\n",
       "      <td>...</td>\n",
       "      <td>...</td>\n",
       "    </tr>\n",
       "    <tr>\n",
       "      <th>423348</th>\n",
       "      <td>I love it .</td>\n",
       "      <td>1</td>\n",
       "    </tr>\n",
       "    <tr>\n",
       "      <th>423349</th>\n",
       "      <td>No instructions.....No Help unless you want to...</td>\n",
       "      <td>0</td>\n",
       "    </tr>\n",
       "    <tr>\n",
       "      <th>423350</th>\n",
       "      <td>it's a joke</td>\n",
       "      <td>0</td>\n",
       "    </tr>\n",
       "    <tr>\n",
       "      <th>423351</th>\n",
       "      <td>I have multiple licenses of the Antivirus. I h...</td>\n",
       "      <td>1</td>\n",
       "    </tr>\n",
       "    <tr>\n",
       "      <th>423352</th>\n",
       "      <td>very nice designs easy to use.</td>\n",
       "      <td>1</td>\n",
       "    </tr>\n",
       "  </tbody>\n",
       "</table>\n",
       "<p>423353 rows × 2 columns</p>\n",
       "</div>"
      ],
      "text/plain": [
       "                                                     text  label\n",
       "0       The materials arrived early and were in excell...      1\n",
       "1       I am really enjoying this book with the worksh...      1\n",
       "2       IF YOU ARE TAKING THIS CLASS DON\"T WASTE YOUR ...      0\n",
       "3       This book was missing pages!!! Important pages...      0\n",
       "4       I have used LearnSmart and can officially say ...      1\n",
       "...                                                   ...    ...\n",
       "423348                                        I love it .      1\n",
       "423349  No instructions.....No Help unless you want to...      0\n",
       "423350                                        it's a joke      0\n",
       "423351  I have multiple licenses of the Antivirus. I h...      1\n",
       "423352                     very nice designs easy to use.      1\n",
       "\n",
       "[423353 rows x 2 columns]"
      ]
     },
     "execution_count": 9,
     "metadata": {},
     "output_type": "execute_result"
    }
   ],
   "source": [
    "df['label'] = df['rating'].apply(lambda x: 1 if x > 3 else 0 )\n",
    "amazon_data = df.loc[:,('reviewText','label')]\n",
    "amazon_data.columns = ['text', 'label']\n",
    "\n",
    "amazon_data"
   ]
  },
  {
   "cell_type": "code",
   "execution_count": 10,
   "id": "b7180e93",
   "metadata": {},
   "outputs": [],
   "source": [
    "def clean_text(text ): \n",
    "    delete_dict = {sp_character: '' for sp_character in string.punctuation} \n",
    "    delete_dict[' '] = ' ' \n",
    "    table = str.maketrans(delete_dict)\n",
    "    text1 = str(text).translate(table)\n",
    "    #print('cleaned:'+text1)\n",
    "    textArr= text1.split()\n",
    "    text2 = ' '.join([w for w in textArr if ( not w.isdigit() and  ( not w.isdigit() and len(w)>2))]) \n",
    "    \n",
    "    return text2.lower()"
   ]
  },
  {
   "cell_type": "code",
   "execution_count": 11,
   "id": "540b0bc4",
   "metadata": {},
   "outputs": [],
   "source": [
    "amazon_data['text'].dropna(axis = 0, how ='any',inplace=True) \n",
    "\n",
    "amazon_data['text'] = amazon_data['text'].apply(clean_text)"
   ]
  },
  {
   "cell_type": "code",
   "execution_count": 12,
   "id": "dbed045d",
   "metadata": {},
   "outputs": [
    {
     "data": {
      "text/html": [
       "<div>\n",
       "<style scoped>\n",
       "    .dataframe tbody tr th:only-of-type {\n",
       "        vertical-align: middle;\n",
       "    }\n",
       "\n",
       "    .dataframe tbody tr th {\n",
       "        vertical-align: top;\n",
       "    }\n",
       "\n",
       "    .dataframe thead th {\n",
       "        text-align: right;\n",
       "    }\n",
       "</style>\n",
       "<table border=\"1\" class=\"dataframe\">\n",
       "  <thead>\n",
       "    <tr style=\"text-align: right;\">\n",
       "      <th></th>\n",
       "      <th>text</th>\n",
       "      <th>label</th>\n",
       "    </tr>\n",
       "  </thead>\n",
       "  <tbody>\n",
       "    <tr>\n",
       "      <th>2</th>\n",
       "      <td>you are taking this class dont waste your mone...</td>\n",
       "      <td>0</td>\n",
       "    </tr>\n",
       "    <tr>\n",
       "      <th>3</th>\n",
       "      <td>this book was missing pages important pages co...</td>\n",
       "      <td>0</td>\n",
       "    </tr>\n",
       "    <tr>\n",
       "      <th>6</th>\n",
       "      <td>you live mars and never heard the internet thi...</td>\n",
       "      <td>0</td>\n",
       "    </tr>\n",
       "    <tr>\n",
       "      <th>10</th>\n",
       "      <td>maybe its just have marketing background but d...</td>\n",
       "      <td>0</td>\n",
       "    </tr>\n",
       "    <tr>\n",
       "      <th>12</th>\n",
       "      <td>not worth the price most the concepts are pret...</td>\n",
       "      <td>0</td>\n",
       "    </tr>\n",
       "    <tr>\n",
       "      <th>...</th>\n",
       "      <td>...</td>\n",
       "      <td>...</td>\n",
       "    </tr>\n",
       "    <tr>\n",
       "      <th>423345</th>\n",
       "      <td>the images are deceptive the pendant small you...</td>\n",
       "      <td>0</td>\n",
       "    </tr>\n",
       "    <tr>\n",
       "      <th>423346</th>\n",
       "      <td>small its hard make out what when you wear</td>\n",
       "      <td>0</td>\n",
       "    </tr>\n",
       "    <tr>\n",
       "      <th>423347</th>\n",
       "      <td>fault shorter than expected</td>\n",
       "      <td>0</td>\n",
       "    </tr>\n",
       "    <tr>\n",
       "      <th>423349</th>\n",
       "      <td>instructionsno help unless you want pay for help</td>\n",
       "      <td>0</td>\n",
       "    </tr>\n",
       "    <tr>\n",
       "      <th>423350</th>\n",
       "      <td>its joke</td>\n",
       "      <td>0</td>\n",
       "    </tr>\n",
       "  </tbody>\n",
       "</table>\n",
       "<p>166681 rows × 2 columns</p>\n",
       "</div>"
      ],
      "text/plain": [
       "                                                     text  label\n",
       "2       you are taking this class dont waste your mone...      0\n",
       "3       this book was missing pages important pages co...      0\n",
       "6       you live mars and never heard the internet thi...      0\n",
       "10      maybe its just have marketing background but d...      0\n",
       "12      not worth the price most the concepts are pret...      0\n",
       "...                                                   ...    ...\n",
       "423345  the images are deceptive the pendant small you...      0\n",
       "423346         small its hard make out what when you wear      0\n",
       "423347                        fault shorter than expected      0\n",
       "423349   instructionsno help unless you want pay for help      0\n",
       "423350                                           its joke      0\n",
       "\n",
       "[166681 rows x 2 columns]"
      ]
     },
     "execution_count": 12,
     "metadata": {},
     "output_type": "execute_result"
    }
   ],
   "source": [
    "amazon_data[amazon_data['label']==0]"
   ]
  },
  {
   "cell_type": "code",
   "execution_count": 13,
   "id": "823d4c00",
   "metadata": {},
   "outputs": [],
   "source": [
    "# Podział na zbiór trenningowy oraz testowy.\n",
    "Train_X, Test_X, Train_Y, Test_Y = model_selection.train_test_split(amazon_data['text'],\n",
    "                                                                    amazon_data['label'],\n",
    "                                                                    train_size=0.4,\n",
    "                                                                    test_size=0.3)\n",
    "\n",
    "# Kodowanie etykiety\n",
    "Encoder = LabelEncoder()\n",
    "Train_Y = Encoder.fit_transform(Train_Y)\n",
    "Test_Y = Encoder.fit_transform(Test_Y)\n",
    "\n",
    "# Wektoryzacja tekstu\n",
    "Tfidf_vect = TfidfVectorizer(max_features=5000)\n",
    "Tfidf_vect.fit(amazon_data['text'])\n",
    "Train_X_Tfidf = Tfidf_vect.transform(Train_X)\n",
    "Test_X_Tfidf = Tfidf_vect.transform(Test_X)"
   ]
  },
  {
   "cell_type": "code",
   "execution_count": 14,
   "id": "1abca120",
   "metadata": {},
   "outputs": [
    {
     "name": "stdout",
     "output_type": "stream",
     "text": [
      "[('the', 4439), ('materials', 2667), ('arrived', 279), ('early', 1341), ('and', 200)]\n"
     ]
    }
   ],
   "source": [
    "print(list(Tfidf_vect.vocabulary_.items())[:5])"
   ]
  },
  {
   "cell_type": "code",
   "execution_count": 15,
   "id": "da37bca4",
   "metadata": {},
   "outputs": [
    {
     "name": "stdout",
     "output_type": "stream",
     "text": [
      "Size of the training set:  169341\n",
      "Size of the training set:  127006\n"
     ]
    }
   ],
   "source": [
    "print(\"Size of the training set: \", Train_X_Tfidf.shape[0])\n",
    "print(\"Size of the training set: \", Test_X_Tfidf.shape[0])"
   ]
  },
  {
   "cell_type": "code",
   "execution_count": 61,
   "id": "0cc01c2e",
   "metadata": {},
   "outputs": [
    {
     "name": "stdout",
     "output_type": "stream",
     "text": [
      "Wall time: 242 ms\n",
      "Ridge Classifier Accuracy Score ->  0.8639355620994283\n"
     ]
    }
   ],
   "source": [
    "# Klasyfikator liniowy\n",
    "Linear = RidgeClassifier(alpha=0.05, \n",
    "                         fit_intercept=True, \n",
    "                         normalize='deprecated', \n",
    "                         copy_X=True, \n",
    "                         max_iter=None, \n",
    "                         tol=0.001, \n",
    "                         class_weight=None, \n",
    "                         solver='auto', \n",
    "                         random_state=None)\n",
    "\n",
    "%time Linear.fit(Train_X_Tfidf,Train_Y)\n",
    "\n",
    "predictions_Ridge = Linear.predict(Test_X_Tfidf)\n",
    "\n",
    "print(\"Ridge Classifier Accuracy Score -> \",accuracy_score(predictions_Ridge, Test_Y))"
   ]
  },
  {
   "cell_type": "code",
   "execution_count": 62,
   "id": "c81a5a03",
   "metadata": {},
   "outputs": [
    {
     "name": "stdout",
     "output_type": "stream",
     "text": [
      "Wall time: 25.7 ms\n",
      "Naive Bayes Accuracy Score ->  0.8398185912476576\n"
     ]
    }
   ],
   "source": [
    "# Niwny klasyfikator Bayesowski\n",
    "Naive = naive_bayes.MultinomialNB(alpha=0.05, \n",
    "                                  fit_prior=True, \n",
    "                                  class_prior=None)\n",
    "\n",
    "%time Naive.fit(Train_X_Tfidf,Train_Y)\n",
    "\n",
    "predictions_NB = Naive.predict(Test_X_Tfidf)\n",
    "\n",
    "print(\"Naive Bayes Accuracy Score -> \",accuracy_score(predictions_NB, Test_Y))"
   ]
  },
  {
   "cell_type": "code",
   "execution_count": 16,
   "id": "e95a735e",
   "metadata": {},
   "outputs": [
    {
     "name": "stdout",
     "output_type": "stream",
     "text": [
      "Wall time: 1h 7min 38s\n",
      "SVM Accuracy Score ->  87.33445663984378\n"
     ]
    }
   ],
   "source": [
    "# Maszyna wektorów nośnych\n",
    "SVM = svm.SVC(C=0.5, \n",
    "              kernel='linear', \n",
    "              degree=3, \n",
    "              gamma='auto', \n",
    "              coef0=0.0, \n",
    "              shrinking=True, \n",
    "              probability=False, \n",
    "              tol=0.001, \n",
    "              cache_size=200, \n",
    "              class_weight=None, \n",
    "              verbose=False, \n",
    "              max_iter=- 1, \n",
    "              decision_function_shape='ovr', \n",
    "              break_ties=False, \n",
    "              random_state=None)\n",
    "\n",
    "%time SVM.fit(Train_X_Tfidf,Train_Y)\n",
    "\n",
    "predictions_SVM = SVM.predict(Test_X_Tfidf)\n",
    "\n",
    "print(\"SVM Accuracy Score -> \",accuracy_score(predictions_SVM, Test_Y)*100)"
   ]
  },
  {
   "cell_type": "code",
   "execution_count": 11,
   "id": "00d4ee7c",
   "metadata": {},
   "outputs": [
    {
     "name": "stdout",
     "output_type": "stream",
     "text": [
      "Wall time: 5.99 s\n",
      "Decision Tree Accuracy Score ->  0.727800261404973\n"
     ]
    }
   ],
   "source": [
    "# Drzewa decyzyjne\n",
    "Tree = tree.DecisionTreeClassifier(criterion='entropy', \n",
    "                                   splitter='best',\n",
    "                                   max_features='auto',\n",
    "                                   max_depth=None, \n",
    "                                   min_samples_split=2, \n",
    "                                   min_samples_leaf=1, \n",
    "                                   min_weight_fraction_leaf=0.0,  \n",
    "                                   random_state=None, \n",
    "                                   max_leaf_nodes=None, \n",
    "                                   min_impurity_decrease=0.0, \n",
    "                                   class_weight=None, \n",
    "                                   ccp_alpha=0.0)\n",
    "\n",
    "%time Tree.fit(Train_X_Tfidf,Train_Y)\n",
    "\n",
    "predictions_Tree = Tree.predict(Test_X_Tfidf)\n",
    "\n",
    "print(\"Decision Tree Accuracy Score -> \",accuracy_score(predictions_Tree, Test_Y))"
   ]
  },
  {
   "cell_type": "code",
   "execution_count": 12,
   "id": "2288cad9",
   "metadata": {},
   "outputs": [
    {
     "name": "stderr",
     "output_type": "stream",
     "text": [
      "[Parallel(n_jobs=-1)]: Using backend ThreadingBackend with 12 concurrent workers.\n",
      "[Parallel(n_jobs=-1)]: Done  26 tasks      | elapsed:   34.6s\n",
      "[Parallel(n_jobs=-1)]: Done 100 out of 100 | elapsed:  1.7min finished\n",
      "[Parallel(n_jobs=12)]: Using backend ThreadingBackend with 12 concurrent workers.\n"
     ]
    },
    {
     "name": "stdout",
     "output_type": "stream",
     "text": [
      "Wall time: 1min 42s\n"
     ]
    },
    {
     "name": "stderr",
     "output_type": "stream",
     "text": [
      "[Parallel(n_jobs=12)]: Done  26 tasks      | elapsed:    0.2s\n"
     ]
    },
    {
     "name": "stdout",
     "output_type": "stream",
     "text": [
      "Random Forest Accuracy Score ->  0.8460230225343685\n"
     ]
    },
    {
     "name": "stderr",
     "output_type": "stream",
     "text": [
      "[Parallel(n_jobs=12)]: Done 100 out of 100 | elapsed:    0.8s finished\n"
     ]
    }
   ],
   "source": [
    "# Losowy Las\n",
    "Forest = RandomForestClassifier(n_estimators=100,\n",
    "                                criterion='entropy',\n",
    "                                max_features='auto',\n",
    "                                n_jobs=-1,\n",
    "                                random_state=None,\n",
    "                                verbose=1)\n",
    "\n",
    "%time Forest.fit(Train_X_Tfidf,Train_Y)\n",
    "\n",
    "predictions_Forest = Forest.predict(Test_X_Tfidf)\n",
    "\n",
    "print(\"Random Forest Accuracy Score -> \",accuracy_score(predictions_Forest, Test_Y))"
   ]
  },
  {
   "cell_type": "code",
   "execution_count": null,
   "id": "abe61eaf",
   "metadata": {},
   "outputs": [],
   "source": []
  }
 ],
 "metadata": {
  "kernelspec": {
   "display_name": "Python 3 (ipykernel)",
   "language": "python",
   "name": "python3"
  },
  "language_info": {
   "codemirror_mode": {
    "name": "ipython",
    "version": 3
   },
   "file_extension": ".py",
   "mimetype": "text/x-python",
   "name": "python",
   "nbconvert_exporter": "python",
   "pygments_lexer": "ipython3",
   "version": "3.9.7"
  }
 },
 "nbformat": 4,
 "nbformat_minor": 5
}
