{
 "cells": [
  {
   "cell_type": "code",
   "execution_count": 1,
   "id": "aadee165",
   "metadata": {},
   "outputs": [
    {
     "name": "stdout",
     "output_type": "stream",
     "text": [
      "2.6.0\n"
     ]
    }
   ],
   "source": [
    "import matplotlib as mpl\n",
    "import matplotlib.pyplot as plt\n",
    "import os\n",
    "import re\n",
    "import shutil\n",
    "import string\n",
    "import tensorflow as tf\n",
    "from tensorflow.keras import regularizers\n",
    "\n",
    "from tensorflow.keras import layers\n",
    "from tensorflow.keras import losses\n",
    "\n",
    "from collections import Counter\n",
    "\n",
    "import pandas as pd\n",
    "import numpy as np\n",
    "\n",
    "import sklearn\n",
    "\n",
    "from sklearn.model_selection import train_test_split\n",
    "from sklearn.metrics import classification_report\n",
    "\n",
    "from tensorflow.keras import preprocessing\n",
    "from tensorflow.keras.preprocessing.text import Tokenizer\n",
    "from tensorflow.keras.preprocessing.sequence import pad_sequences\n",
    "\n",
    "\n",
    "%load_ext memory_profiler\n",
    "\n",
    "print(tf.__version__)"
   ]
  },
  {
   "cell_type": "code",
   "execution_count": 2,
   "id": "64bb6c3c",
   "metadata": {},
   "outputs": [
    {
     "name": "stdout",
     "output_type": "stream",
     "text": [
      "Default GPU Device:/device:GPU:0\n"
     ]
    }
   ],
   "source": [
    "if tf.test.gpu_device_name(): \n",
    "    print('Default GPU Device:{}'.format(tf.test.gpu_device_name()))\n",
    "\n",
    "else:\n",
    "    print(\"Please install GPU version of TF\")"
   ]
  },
  {
   "cell_type": "code",
   "execution_count": 3,
   "id": "deb685fa",
   "metadata": {
    "scrolled": true
   },
   "outputs": [
    {
     "data": {
      "text/html": [
       "<div>\n",
       "<style scoped>\n",
       "    .dataframe tbody tr th:only-of-type {\n",
       "        vertical-align: middle;\n",
       "    }\n",
       "\n",
       "    .dataframe tbody tr th {\n",
       "        vertical-align: top;\n",
       "    }\n",
       "\n",
       "    .dataframe thead th {\n",
       "        text-align: right;\n",
       "    }\n",
       "</style>\n",
       "<table border=\"1\" class=\"dataframe\">\n",
       "  <thead>\n",
       "    <tr style=\"text-align: right;\">\n",
       "      <th></th>\n",
       "      <th>Unnamed: 0</th>\n",
       "      <th>rating</th>\n",
       "      <th>verified</th>\n",
       "      <th>reviewTime</th>\n",
       "      <th>reviewerID</th>\n",
       "      <th>productID</th>\n",
       "      <th>reviewText</th>\n",
       "      <th>summary</th>\n",
       "      <th>unixReviewTime</th>\n",
       "    </tr>\n",
       "  </thead>\n",
       "  <tbody>\n",
       "    <tr>\n",
       "      <th>0</th>\n",
       "      <td>0</td>\n",
       "      <td>4</td>\n",
       "      <td>True</td>\n",
       "      <td>03 11, 2014</td>\n",
       "      <td>A240ORQ2LF9LUI</td>\n",
       "      <td>0077613252</td>\n",
       "      <td>The materials arrived early and were in excell...</td>\n",
       "      <td>Material Great</td>\n",
       "      <td>1394496000</td>\n",
       "    </tr>\n",
       "    <tr>\n",
       "      <th>1</th>\n",
       "      <td>1</td>\n",
       "      <td>4</td>\n",
       "      <td>True</td>\n",
       "      <td>02 23, 2014</td>\n",
       "      <td>A1YCCU0YRLS0FE</td>\n",
       "      <td>0077613252</td>\n",
       "      <td>I am really enjoying this book with the worksh...</td>\n",
       "      <td>Health</td>\n",
       "      <td>1393113600</td>\n",
       "    </tr>\n",
       "    <tr>\n",
       "      <th>2</th>\n",
       "      <td>2</td>\n",
       "      <td>1</td>\n",
       "      <td>True</td>\n",
       "      <td>02 17, 2014</td>\n",
       "      <td>A1BJHRQDYVAY2J</td>\n",
       "      <td>0077613252</td>\n",
       "      <td>IF YOU ARE TAKING THIS CLASS DON\"T WASTE YOUR ...</td>\n",
       "      <td>ARE YOU KIDING ME?</td>\n",
       "      <td>1392595200</td>\n",
       "    </tr>\n",
       "  </tbody>\n",
       "</table>\n",
       "</div>"
      ],
      "text/plain": [
       "   Unnamed: 0  rating  verified   reviewTime      reviewerID   productID  \\\n",
       "0           0       4      True  03 11, 2014  A240ORQ2LF9LUI  0077613252   \n",
       "1           1       4      True  02 23, 2014  A1YCCU0YRLS0FE  0077613252   \n",
       "2           2       1      True  02 17, 2014  A1BJHRQDYVAY2J  0077613252   \n",
       "\n",
       "                                          reviewText             summary  \\\n",
       "0  The materials arrived early and were in excell...      Material Great   \n",
       "1  I am really enjoying this book with the worksh...              Health   \n",
       "2  IF YOU ARE TAKING THIS CLASS DON\"T WASTE YOUR ...  ARE YOU KIDING ME?   \n",
       "\n",
       "   unixReviewTime  \n",
       "0      1394496000  \n",
       "1      1393113600  \n",
       "2      1392595200  "
      ]
     },
     "execution_count": 3,
     "metadata": {},
     "output_type": "execute_result"
    }
   ],
   "source": [
    "df = pd.read_csv(r\"C:\\Users\\stezo\\Desktop\\Text_classification\\Software.csv\",encoding='latin-1')\n",
    "df.head(3)"
   ]
  },
  {
   "cell_type": "code",
   "execution_count": 4,
   "id": "a3fb2770",
   "metadata": {},
   "outputs": [
    {
     "data": {
      "text/html": [
       "<div>\n",
       "<style scoped>\n",
       "    .dataframe tbody tr th:only-of-type {\n",
       "        vertical-align: middle;\n",
       "    }\n",
       "\n",
       "    .dataframe tbody tr th {\n",
       "        vertical-align: top;\n",
       "    }\n",
       "\n",
       "    .dataframe thead th {\n",
       "        text-align: right;\n",
       "    }\n",
       "</style>\n",
       "<table border=\"1\" class=\"dataframe\">\n",
       "  <thead>\n",
       "    <tr style=\"text-align: right;\">\n",
       "      <th></th>\n",
       "      <th>text</th>\n",
       "      <th>label</th>\n",
       "    </tr>\n",
       "  </thead>\n",
       "  <tbody>\n",
       "    <tr>\n",
       "      <th>0</th>\n",
       "      <td>The materials arrived early and were in excell...</td>\n",
       "      <td>1</td>\n",
       "    </tr>\n",
       "    <tr>\n",
       "      <th>1</th>\n",
       "      <td>I am really enjoying this book with the worksh...</td>\n",
       "      <td>1</td>\n",
       "    </tr>\n",
       "    <tr>\n",
       "      <th>2</th>\n",
       "      <td>IF YOU ARE TAKING THIS CLASS DON\"T WASTE YOUR ...</td>\n",
       "      <td>0</td>\n",
       "    </tr>\n",
       "    <tr>\n",
       "      <th>3</th>\n",
       "      <td>This book was missing pages!!! Important pages...</td>\n",
       "      <td>0</td>\n",
       "    </tr>\n",
       "    <tr>\n",
       "      <th>4</th>\n",
       "      <td>I have used LearnSmart and can officially say ...</td>\n",
       "      <td>1</td>\n",
       "    </tr>\n",
       "    <tr>\n",
       "      <th>...</th>\n",
       "      <td>...</td>\n",
       "      <td>...</td>\n",
       "    </tr>\n",
       "    <tr>\n",
       "      <th>423348</th>\n",
       "      <td>I love it .</td>\n",
       "      <td>1</td>\n",
       "    </tr>\n",
       "    <tr>\n",
       "      <th>423349</th>\n",
       "      <td>No instructions.....No Help unless you want to...</td>\n",
       "      <td>0</td>\n",
       "    </tr>\n",
       "    <tr>\n",
       "      <th>423350</th>\n",
       "      <td>it's a joke</td>\n",
       "      <td>0</td>\n",
       "    </tr>\n",
       "    <tr>\n",
       "      <th>423351</th>\n",
       "      <td>I have multiple licenses of the Antivirus. I h...</td>\n",
       "      <td>1</td>\n",
       "    </tr>\n",
       "    <tr>\n",
       "      <th>423352</th>\n",
       "      <td>very nice designs easy to use.</td>\n",
       "      <td>1</td>\n",
       "    </tr>\n",
       "  </tbody>\n",
       "</table>\n",
       "<p>423353 rows × 2 columns</p>\n",
       "</div>"
      ],
      "text/plain": [
       "                                                     text  label\n",
       "0       The materials arrived early and were in excell...      1\n",
       "1       I am really enjoying this book with the worksh...      1\n",
       "2       IF YOU ARE TAKING THIS CLASS DON\"T WASTE YOUR ...      0\n",
       "3       This book was missing pages!!! Important pages...      0\n",
       "4       I have used LearnSmart and can officially say ...      1\n",
       "...                                                   ...    ...\n",
       "423348                                        I love it .      1\n",
       "423349  No instructions.....No Help unless you want to...      0\n",
       "423350                                        it's a joke      0\n",
       "423351  I have multiple licenses of the Antivirus. I h...      1\n",
       "423352                     very nice designs easy to use.      1\n",
       "\n",
       "[423353 rows x 2 columns]"
      ]
     },
     "execution_count": 4,
     "metadata": {},
     "output_type": "execute_result"
    }
   ],
   "source": [
    "df['label'] = df['rating'].apply(lambda x: 1 if x > 3 else 0 )\n",
    "amazon_data = df.loc[:,('reviewText','label')]\n",
    "amazon_data.columns = ['text', 'label']\n",
    "\n",
    "amazon_data"
   ]
  },
  {
   "cell_type": "code",
   "execution_count": 5,
   "id": "58344ccc",
   "metadata": {},
   "outputs": [],
   "source": [
    "def clean_text(text ): \n",
    "    delete_dict = {sp_character: '' for sp_character in string.punctuation} \n",
    "    delete_dict[' '] = ' ' \n",
    "    table = str.maketrans(delete_dict)\n",
    "    text1 = str(text).translate(table)\n",
    "    #print('cleaned:'+text1)\n",
    "    textArr= text1.split()\n",
    "    text2 = ' '.join([w for w in textArr if ( not w.isdigit() and  ( not w.isdigit() and len(w)>2))]) \n",
    "    \n",
    "    return text2.lower()"
   ]
  },
  {
   "cell_type": "code",
   "execution_count": 11,
   "id": "e2500618",
   "metadata": {},
   "outputs": [
    {
     "name": "stdout",
     "output_type": "stream",
     "text": [
      "Wall time: 37.2 ms\n",
      "Wall time: 7.6 s\n"
     ]
    },
    {
     "data": {
      "text/plain": [
       "1    256672\n",
       "0    166681\n",
       "Name: label, dtype: int64"
      ]
     },
     "execution_count": 11,
     "metadata": {},
     "output_type": "execute_result"
    }
   ],
   "source": [
    "%time amazon_data['text'].dropna(axis = 0, how ='any',inplace=True)\n",
    "\n",
    "%time amazon_data['text'] = amazon_data['text'].apply(clean_text)\n",
    "amazon_data['label'].value_counts()"
   ]
  },
  {
   "cell_type": "code",
   "execution_count": 12,
   "id": "9abeca41",
   "metadata": {},
   "outputs": [
    {
     "data": {
      "text/html": [
       "<div>\n",
       "<style scoped>\n",
       "    .dataframe tbody tr th:only-of-type {\n",
       "        vertical-align: middle;\n",
       "    }\n",
       "\n",
       "    .dataframe tbody tr th {\n",
       "        vertical-align: top;\n",
       "    }\n",
       "\n",
       "    .dataframe thead th {\n",
       "        text-align: right;\n",
       "    }\n",
       "</style>\n",
       "<table border=\"1\" class=\"dataframe\">\n",
       "  <thead>\n",
       "    <tr style=\"text-align: right;\">\n",
       "      <th></th>\n",
       "      <th>text</th>\n",
       "      <th>label</th>\n",
       "    </tr>\n",
       "  </thead>\n",
       "  <tbody>\n",
       "    <tr>\n",
       "      <th>2</th>\n",
       "      <td>you are taking this class dont waste your mone...</td>\n",
       "      <td>0</td>\n",
       "    </tr>\n",
       "    <tr>\n",
       "      <th>3</th>\n",
       "      <td>this book was missing pages important pages co...</td>\n",
       "      <td>0</td>\n",
       "    </tr>\n",
       "    <tr>\n",
       "      <th>6</th>\n",
       "      <td>you live mars and never heard the internet thi...</td>\n",
       "      <td>0</td>\n",
       "    </tr>\n",
       "    <tr>\n",
       "      <th>10</th>\n",
       "      <td>maybe its just have marketing background but d...</td>\n",
       "      <td>0</td>\n",
       "    </tr>\n",
       "    <tr>\n",
       "      <th>12</th>\n",
       "      <td>not worth the price most the concepts are pret...</td>\n",
       "      <td>0</td>\n",
       "    </tr>\n",
       "    <tr>\n",
       "      <th>...</th>\n",
       "      <td>...</td>\n",
       "      <td>...</td>\n",
       "    </tr>\n",
       "    <tr>\n",
       "      <th>423345</th>\n",
       "      <td>the images are deceptive the pendant small you...</td>\n",
       "      <td>0</td>\n",
       "    </tr>\n",
       "    <tr>\n",
       "      <th>423346</th>\n",
       "      <td>small its hard make out what when you wear</td>\n",
       "      <td>0</td>\n",
       "    </tr>\n",
       "    <tr>\n",
       "      <th>423347</th>\n",
       "      <td>fault shorter than expected</td>\n",
       "      <td>0</td>\n",
       "    </tr>\n",
       "    <tr>\n",
       "      <th>423349</th>\n",
       "      <td>instructionsno help unless you want pay for help</td>\n",
       "      <td>0</td>\n",
       "    </tr>\n",
       "    <tr>\n",
       "      <th>423350</th>\n",
       "      <td>its joke</td>\n",
       "      <td>0</td>\n",
       "    </tr>\n",
       "  </tbody>\n",
       "</table>\n",
       "<p>166681 rows × 2 columns</p>\n",
       "</div>"
      ],
      "text/plain": [
       "                                                     text  label\n",
       "2       you are taking this class dont waste your mone...      0\n",
       "3       this book was missing pages important pages co...      0\n",
       "6       you live mars and never heard the internet thi...      0\n",
       "10      maybe its just have marketing background but d...      0\n",
       "12      not worth the price most the concepts are pret...      0\n",
       "...                                                   ...    ...\n",
       "423345  the images are deceptive the pendant small you...      0\n",
       "423346         small its hard make out what when you wear      0\n",
       "423347                        fault shorter than expected      0\n",
       "423349   instructionsno help unless you want pay for help      0\n",
       "423350                                           its joke      0\n",
       "\n",
       "[166681 rows x 2 columns]"
      ]
     },
     "execution_count": 12,
     "metadata": {},
     "output_type": "execute_result"
    }
   ],
   "source": [
    "amazon_data[amazon_data['label']==0]"
   ]
  },
  {
   "cell_type": "code",
   "execution_count": 238,
   "id": "7edbda53",
   "metadata": {},
   "outputs": [],
   "source": [
    "# Podział na zbiór trenningowy oraz testowy.\n",
    "X_train, X_valid, y_train, y_valid = train_test_split(amazon_data['text'].tolist(),\n",
    "                                                      amazon_data['label'].tolist(),\n",
    "                                                      train_size=0.7,\n",
    "                                                      test_size=0.3,\n",
    "                                                      stratify = amazon_data['label'].tolist(),\\\n",
    "                                                      random_state=0)"
   ]
  },
  {
   "cell_type": "code",
   "execution_count": 239,
   "id": "7a94bedb",
   "metadata": {},
   "outputs": [
    {
     "name": "stdout",
     "output_type": "stream",
     "text": [
      "[[1, 79, 14, 6]]\n"
     ]
    }
   ],
   "source": [
    "num_words = 5000\n",
    "\n",
    "tokenizer = Tokenizer(num_words=num_words,oov_token=\"unk\")\n",
    "tokenizer.fit_on_texts(X_train)\n",
    "\n",
    "\n",
    "print(str(tokenizer.texts_to_sequences(['xyz how are you'])))"
   ]
  },
  {
   "cell_type": "code",
   "execution_count": 240,
   "id": "45e2ac24",
   "metadata": {},
   "outputs": [
    {
     "name": "stderr",
     "output_type": "stream",
     "text": [
      "C:\\Users\\stezo\\AppData\\Local\\Temp/ipykernel_23572/138712046.py:1: VisibleDeprecationWarning: Creating an ndarray from ragged nested sequences (which is a list-or-tuple of lists-or-tuples-or ndarrays with different lengths or shapes) is deprecated. If you meant to do this, you must specify 'dtype=object' when creating the ndarray.\n",
      "  x_train = np.array( tokenizer.texts_to_sequences(X_train) )\n",
      "C:\\Users\\stezo\\AppData\\Local\\Temp/ipykernel_23572/138712046.py:2: VisibleDeprecationWarning: Creating an ndarray from ragged nested sequences (which is a list-or-tuple of lists-or-tuples-or ndarrays with different lengths or shapes) is deprecated. If you meant to do this, you must specify 'dtype=object' when creating the ndarray.\n",
      "  x_valid = np.array( tokenizer.texts_to_sequences(X_valid) )\n"
     ]
    }
   ],
   "source": [
    "x_train = np.array( tokenizer.texts_to_sequences(X_train) )\n",
    "x_valid = np.array( tokenizer.texts_to_sequences(X_valid) )\n",
    "\n",
    "sequence_length = 200\n",
    "x_train = pad_sequences(x_train, padding='post', maxlen=sequence_length)\n",
    "x_valid = pad_sequences(x_valid, padding='post', maxlen=sequence_length)\n",
    "\n",
    "train_labels = np.asarray(y_train )\n",
    "valid_labels = np.asarray( y_valid)\n",
    "\n",
    "train_ds = tf.data.Dataset.from_tensor_slices((x_train,train_labels))\n",
    "valid_ds = tf.data.Dataset.from_tensor_slices((x_valid,valid_labels))\n",
    "\n",
    "sequence_length_cnn = 200\n",
    "x_train_cnn = pad_sequences(x_train, padding='post', maxlen=sequence_length_cnn)\n",
    "x_valid_cnn = pad_sequences(x_valid, padding='post', maxlen=sequence_length_cnn)\n",
    "\n",
    "\n",
    "train_ds_cnn = tf.data.Dataset.from_tensor_slices((x_train_cnn,train_labels))\n",
    "valid_ds_cnn = tf.data.Dataset.from_tensor_slices((x_valid_cnn,valid_labels))"
   ]
  },
  {
   "cell_type": "code",
   "execution_count": 242,
   "id": "79c0ce89",
   "metadata": {},
   "outputs": [],
   "source": [
    "max_features =5000\n",
    "embedding_dim =16\n",
    "\n",
    "\n",
    "RNN = tf.keras.Sequential()\n",
    "RNN.add(tf.keras.layers.Embedding(max_features +1, embedding_dim, input_length=sequence_length,\\\n",
    "                                    embeddings_regularizer = regularizers.l2(0.005))) \n",
    "RNN.add(tf.keras.layers.Dropout(0.2))\n",
    "RNN.add(tf.keras.layers.LSTM(embedding_dim,dropout=0.2, recurrent_dropout=0,return_sequences=True,\n",
    "                                                             kernel_regularizer=regularizers.l2(0.005),\n",
    "                                                             bias_regularizer=regularizers.l2(0.005)))\n",
    "RNN.add(tf.keras.layers.Flatten())\n",
    "RNN.add(tf.keras.layers.Dense(512, activation='relu',\\\n",
    "                                kernel_regularizer=regularizers.l2(0.001),\\\n",
    "                                bias_regularizer=regularizers.l2(0.001), input_shape=(160,10)))\n",
    "RNN.add(tf.keras.layers.Dropout(0.2))\n",
    "\n",
    "RNN.add(tf.keras.layers.Dense(8, activation='relu',\\\n",
    "                                kernel_regularizer=regularizers.l2(0.001),\\\n",
    "                                bias_regularizer=regularizers.l2(0.001),))\n",
    "RNN.add(tf.keras.layers.Dropout(0.2))\n",
    "RNN.add(tf.keras.layers.Dense(1,activation='sigmoid'))\n",
    "\n",
    "#RNN.summary()\n",
    "RNN.compile(loss=tf.keras.losses.BinaryCrossentropy(), \n",
    "            optimizer=tf.keras.optimizers.Adam(1e-3),\n",
    "            metrics=[tf.keras.metrics.BinaryAccuracy()])"
   ]
  },
  {
   "cell_type": "code",
   "execution_count": 243,
   "id": "dace5184",
   "metadata": {
    "scrolled": true
   },
   "outputs": [
    {
     "name": "stdout",
     "output_type": "stream",
     "text": [
      "RNN accuracy ->: 0.85628\n",
      "RNN val accuracy ->: 0.86746\n",
      "Wall time: 5min 57s\n"
     ]
    }
   ],
   "source": [
    "%%time\n",
    "epochs = 50\n",
    "historyRNN = RNN.fit(train_ds.shuffle(5000).batch(1024),\n",
    "                    epochs= epochs ,\n",
    "                    validation_data=valid_ds.batch(1024),\n",
    "                    verbose=0)\n",
    "\n",
    "print(f\"RNN accuracy ->: {round(historyRNN.history['binary_accuracy'][-1], 5)}\")\n",
    "print(f\"RNN val accuracy ->: {round(historyRNN.history['val_binary_accuracy'][-1], 5)}\")"
   ]
  },
  {
   "cell_type": "code",
   "execution_count": 244,
   "id": "a422a85b",
   "metadata": {
    "scrolled": true
   },
   "outputs": [
    {
     "data": {
      "image/png": "[encoded data removed]",
      "text/plain": [
       "<Figure size 720x360 with 2 Axes>"
      ]
     },
     "metadata": {
      "needs_background": "light"
     },
     "output_type": "display_data"
    }
   ],
   "source": [
    "# plot \n",
    "plt.rcParams['figure.figsize'] = [10, 5]\n",
    "\n",
    "f, axs = plt.subplots(2, 1)\n",
    "#axs[0].subplot(211)\n",
    "axs[0].plot(historyRNN.history['binary_accuracy'], label=' training data')\n",
    "axs[0].plot(historyRNN.history['val_binary_accuracy'], label='validation data')\n",
    "#axs[0].set_title('Binary accuracy for Text Classification')\n",
    "axs[0].set_ylabel('Binary accuracy')\n",
    "#axs[0].set_xlabel('No. epoch')\n",
    "axs[0].legend(loc=\"lower right\")\n",
    "axs[0].grid(True)\n",
    "\n",
    "axs[1].plot(historyRNN.history['loss'], label=' training data')\n",
    "axs[1].plot(historyRNN.history['val_loss'], label='validation data')\n",
    "#axs[1]title('Loss for Text Classification')\n",
    "axs[1].set_ylabel('Loss value')\n",
    "axs[1].set_xlabel('No. epoch')\n",
    "axs[1].legend(loc=\"upper right\")\n",
    "axs[1].grid(True)"
   ]
  },
  {
   "cell_type": "code",
   "execution_count": 245,
   "id": "8d5e44da",
   "metadata": {},
   "outputs": [],
   "source": [
    "embedding_dim = 16\n",
    "\n",
    "modelCNN = tf.keras.Sequential()\n",
    "modelCNN.add(tf.keras.layers.Embedding(max_features +1, embedding_dim, \n",
    "                                       input_length=sequence_length_cnn,\n",
    "                                       embeddings_regularizer = regularizers.l2(0.005))) \n",
    "modelCNN.add(tf.keras.layers.Conv1D(filters=32, kernel_size=16, activation='relu'))\n",
    "modelCNN.add(tf.keras.layers.MaxPooling1D(pool_size=1))\n",
    "modelCNN.add(tf.keras.layers.Flatten())\n",
    "modelCNN.add(tf.keras.layers.Dense(20, activation='relu'))\n",
    "modelCNN.add(tf.keras.layers.Dense(1, activation='sigmoid'))\n",
    "\n",
    "modelCNN.compile(loss='binary_crossentropy', optimizer='adam', metrics=tf.keras.metrics.BinaryAccuracy())\n",
    "#modelCNN.summary()"
   ]
  },
  {
   "cell_type": "code",
   "execution_count": 246,
   "id": "cef3cb3d",
   "metadata": {},
   "outputs": [
    {
     "name": "stdout",
     "output_type": "stream",
     "text": [
      "CNN accuracy ->: 0.90334\n",
      "CNN val accuracy ->: 0.89318\n",
      "Wall time: 1min 10s\n"
     ]
    }
   ],
   "source": [
    "%%time\n",
    "epochs = 20\n",
    "historyCNN = modelCNN.fit(train_ds_cnn.shuffle(5000).batch(1024),\n",
    "                       epochs= epochs, \n",
    "                       validation_data=valid_ds_cnn.batch(1024), \n",
    "                       verbose=0)\n",
    "\n",
    "print(f\"CNN accuracy ->: {round(historyCNN.history['binary_accuracy'][-1], 5)}\")\n",
    "print(f\"CNN val accuracy ->: {round(historyCNN.history['val_binary_accuracy'][-1], 5)}\")"
   ]
  },
  {
   "cell_type": "code",
   "execution_count": 247,
   "id": "4c9c1fa2",
   "metadata": {},
   "outputs": [
    {
     "data": {
      "image/png": "[encoded data removed]",
      "text/plain": [
       "<Figure size 720x504 with 2 Axes>"
      ]
     },
     "metadata": {
      "needs_background": "light"
     },
     "output_type": "display_data"
    }
   ],
   "source": [
    "# plot \n",
    "plt.rcParams['figure.figsize'] = [10, 7]\n",
    "\n",
    "f, axs = plt.subplots(2, 1)\n",
    "#axs[0].subplot(211)\n",
    "axs[0].plot(historyCNN.history['binary_accuracy'], label=' training data')\n",
    "axs[0].plot(historyCNN.history['val_binary_accuracy'], label='validation data')\n",
    "#axs[0].set_title('Binary accuracy for Text Classification')\n",
    "axs[0].set_ylabel('Binary accuracy')\n",
    "#axs[0].set_xlabel('No. epoch')\n",
    "axs[0].legend(loc=\"lower right\")\n",
    "axs[0].grid(True)\n",
    "\n",
    "axs[1].plot(historyCNN.history['loss'], label=' training data')\n",
    "axs[1].plot(historyCNN.history['val_loss'], label='validation data')\n",
    "#axs[1]title('Loss for Text Classification')\n",
    "axs[1].set_ylabel('Loss value')\n",
    "axs[1].set_xlabel('No. epoch')\n",
    "axs[1].legend(loc=\"upper right\")\n",
    "axs[1].grid(True)"
   ]
  },
  {
   "cell_type": "code",
   "execution_count": null,
   "id": "bd6cec55",
   "metadata": {},
   "outputs": [],
   "source": []
  },
  {
   "cell_type": "code",
   "execution_count": null,
   "id": "f8336592",
   "metadata": {},
   "outputs": [],
   "source": []
  }
 ],
 "metadata": {
  "kernelspec": {
   "display_name": "Python 3 (ipykernel)",
   "language": "python",
   "name": "python3"
  },
  "language_info": {
   "codemirror_mode": {
    "name": "ipython",
    "version": 3
   },
   "file_extension": ".py",
   "mimetype": "text/x-python",
   "name": "python",
   "nbconvert_exporter": "python",
   "pygments_lexer": "ipython3",
   "version": "3.9.7"
  }
 },
 "nbformat": 4,
 "nbformat_minor": 5
}
